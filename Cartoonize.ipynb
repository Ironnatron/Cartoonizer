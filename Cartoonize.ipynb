{
 "cells": [
  {
   "cell_type": "markdown",
   "metadata": {},
   "source": [
    "# Cartoonizer:"
   ]
  },
  {
   "cell_type": "markdown",
   "metadata": {},
   "source": [
    "# 1. Cartoonizing an Image \n",
    "\n",
    "This project converts a live picture into a cartoon-like image. Either it is\n",
    "a B/W sketch or a colored cartoon image\n"
   ]
  },
  {
   "cell_type": "markdown",
   "metadata": {},
   "source": [
    "There are only two libraries used in the project:\n",
    "\n",
    "1. openCV( Open source computer vision ): used for videocapturing and rendering\n",
    "2. numpy: used for numerical computation\n"
   ]
  },
  {
   "cell_type": "code",
   "execution_count": 1,
   "metadata": {},
   "outputs": [],
   "source": [
    "# importing libraries\n",
    "import cv2\n",
    "import numpy as np\n",
    "\n",
    "# Cartoonize function\n",
    "\n",
    "def cartoonize_image(img , ds_factor=4,sketch_mode=False):\n",
    "    \n",
    "    # Converting the image to grey scale\n",
    "    # cvtColor() : built in function in cv2 which one color to other\n",
    "    # medianBlur() : computes median of all the pixels in kernal window and replaces the central pixel with it\n",
    "    # Laplacian() : used to implement dicrete analog of laplace operator\n",
    "    \n",
    "    img_gray = cv2.cvtColor(img, cv2.COLOR_BGR2GRAY)\n",
    "    img_gray = cv2.medianBlur(img_gray, 7)\n",
    "    edges = cv2.Laplacian(img_gray,cv2.CV_8U, ksize=5)\n",
    "    \n",
    "    #ret: boolean value returned by read() function it indicates whether the frame is captured successfully or not\n",
    "    \n",
    "    ret, mask = cv2.threshold(edges, 100,255, cv2.THRESH_BINARY_INV)\n",
    "    if sketch_mode:\n",
    "        return cv2.cvtColor(mask, cv2.COLOR_GRAY2BGR)\n",
    "    \n",
    "    img_small = cv2.cvtColor(mask, cv2.COLOR_GRAY2BGR)\n",
    "    \n",
    "    # resize() :  used for scaling image\n",
    "    \n",
    "    img_small = cv2.resize(img, None,fx=1.0/ds_factor, fy=1.0/ds_factor,interpolation=cv2.INTER_AREA)\n",
    "    \n",
    "    num_repetitions = 10\n",
    "    sigma_color = 5\n",
    "    sigma_space = 7\n",
    "    size = 5\n",
    "    for i in range(num_repetitions):\n",
    "        img_small=cv2.bilateralFilter(img_small, size,sigma_color, sigma_space)\n",
    "        \n",
    "    img_output = cv2.resize(img_small,None, fx=ds_factor, fy=ds_factor,interpolation=cv2.INTER_LINEAR)\n",
    "    dst = np.zeros(img_gray.shape)\n",
    "    dst = cv2.bitwise_and(img_output,img_output, mask=mask)\n",
    "    return dst"
   ]
  },
  {
   "cell_type": "code",
   "execution_count": 2,
   "metadata": {},
   "outputs": [],
   "source": [
    "if __name__ == \"__main__\":\n",
    "    \n",
    "    # VideoCaputre(): used for capturing images and adding effects to image\n",
    "    \n",
    "    cap = cv2.VideoCapture(0)\n",
    "    cur_char = -1\n",
    "    prev_char = -1\n",
    "    while True:\n",
    "        ret, frame = cap.read()\n",
    "        frame = cv2.resize(frame, None, fx=0.5 , fy=0.5,interpolation=cv2.INTER_AREA)\n",
    "        c=cv2.waitKey(1)\n",
    "        \n",
    "        # ASCII value of ESC is 27\n",
    "        if c== 27:\n",
    "            break\n",
    "        \n",
    "        if c > -1 and c != prev_char:\n",
    "            cur_char = c\n",
    "        prev_char = c\n",
    "        \n",
    "        if cur_char == ord('s'):\n",
    "            cv2.imshow('Cartoonize',cartoonize_image(frame, sketch_mode=True))\n",
    "        elif cur_char == ord('c'):\n",
    "            cv2.imshow('Cartoonize',cartoonize_image(frame,sketch_mode=False))\n",
    "        else:\n",
    "            cv2.imshow('Cartoonize', frame)\n",
    "            \n",
    "    cap.release()\n",
    "    cv2.destroyAllWindows()"
   ]
  }
 ],
 "metadata": {
  "kernelspec": {
   "display_name": "Python 3",
   "language": "python",
   "name": "python3"
  },
  "language_info": {
   "codemirror_mode": {
    "name": "ipython",
    "version": 3
   },
   "file_extension": ".py",
   "mimetype": "text/x-python",
   "name": "python",
   "nbconvert_exporter": "python",
   "pygments_lexer": "ipython3",
   "version": "3.7.8"
  }
 },
 "nbformat": 4,
 "nbformat_minor": 4
}
